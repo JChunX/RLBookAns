{
 "cells": [
  {
   "cell_type": "markdown",
   "metadata": {},
   "source": [
    "## Parameter Study\n",
    "\n",
    "### Exercise 2.11 (programming) \n",
    "Make a figure analogous to Figure 2.6 for the nonstationary case outlined in Exercise 2.5. Include the constant-step-size $\\epsilon$-greedy algorithm with $\\alpha$=0.1. Use runs of 200,000 steps and, as a performance measure for each algorithm and parameter setting, use the average reward over the last 100,000 steps."
   ]
  },
  {
   "cell_type": "code",
   "execution_count": 2,
   "metadata": {},
   "outputs": [],
   "source": [
    "import numpy as np\n",
    "import matplotlib.pyplot as plt"
   ]
  },
  {
   "cell_type": "code",
   "execution_count": 100,
   "metadata": {},
   "outputs": [],
   "source": [
    "from scipy.special import softmax\n",
    "'''\n",
    "    Bandit\n",
    "    \n",
    "    Represents a single k-bandit run\n",
    "    k:                Number of arms\n",
    "    T:                Steps to run for\n",
    "    rewards:          Reward received for each step\n",
    "    q:                Mean rewards\n",
    "    Q:                Estimated rewards\n",
    "    alpha:            Step size for reward estimate update\n",
    "    N_a:              Number of times each action has been taken\n",
    "    action_selector:  method to select next action\n",
    "'''\n",
    "class Bandit:\n",
    "    \n",
    "    def __init__(self, k, T, init_values, action_selector):\n",
    "        self.k = k\n",
    "        self.T = T\n",
    "        self.rewards = np.zeros(T)\n",
    "        self.q = np.zeros(k)\n",
    "        self.q_sig = 0.1\n",
    "        self.Q = init_values\n",
    "        self.alpha = 0.1\n",
    "        self.N_a = np.zeros(k)\n",
    "        self.action_selector = action_selector\n",
    "        \n",
    "    def run(self):\n",
    "        for i in range(self.T):\n",
    "            action = self.action_selector(Q=self.Q)\n",
    "            self.N_a[action] = self.N_a[action] + 1\n",
    "            reward = np.random.normal(self.q[action], self.q_sig, 1)[0]\n",
    "            self.rewards[i] = reward\n",
    "            self.update_reward_estimate(reward, self.alpha)\n",
    "            self.update_q()\n",
    "        #self.plot_rewards()  \n",
    "            \n",
    "    def update_q(self):\n",
    "        mu = 0\n",
    "        sig = 0.01\n",
    "        self.q = self.q + np.random.normal(mu, sig, size=self.q.shape)\n",
    "    \n",
    "    def update_reward_estimate(self, reward, step):\n",
    "        self.Q = self.Q + step * (reward - self.Q)\n",
    "        \n",
    "    def plot_rewards(self):\n",
    "        \n",
    "        def rolling_average(data, window_width):\n",
    "            csum_vec = np.cumsum(np.insert(data, 0, 0)) \n",
    "            return (csum_vec[window_width:] - csum_vec[:-window_width]) / window_width\n",
    "        \n",
    "        plt.figure()\n",
    "        plt.plot(range(self.T), np.concatenate((np.zeros(99), rolling_average(self.rewards, 100))), 'r')\n",
    "        \n",
    "        \n",
    "class Bandit_SGA(Bandit):\n",
    "    \n",
    "    def __init__(self, k, T, init_preferences, alpha_H):\n",
    "        self.alpha_H = alpha_H\n",
    "        self.H = np.zeros(k)\n",
    "        self.pi = np.zeros(k)\n",
    "        super().__init__(k, T, np.zeros(k), lambda x: x)\n",
    "        \n",
    "    def run(self):\n",
    "        for i in range(self.T):\n",
    "            action = self.choose_action()\n",
    "            self.N_a[action] = self.N_a[action] + 1\n",
    "            reward = np.random.normal(self.q[action], self.q_sig, 1)[0]\n",
    "            self.rewards[i] = reward\n",
    "            self.update_preferences(action, reward)\n",
    "            super().update_reward_estimate(reward, 1/(i+1))\n",
    "            super().update_q()\n",
    "      \n",
    "    def choose_action(self):\n",
    "        self.pi = softmax(self.H)\n",
    "        return np.random.choice(np.linspace(0, self.pi.size-1, self.pi.size, dtype=int), 1, p=self.pi)\n",
    "    \n",
    "    def update_preferences(self, action, reward):\n",
    "        self.H = np.multiply(self.H - self.alpha_H * (reward - self.Q), self.pi)\n",
    "        self.H[action] = (self.H[action] + self.alpha_H * (reward - self.Q[action]) * self.pi[action]) + (self.alpha_H * (reward - self.Q[action]) * (1 - self.pi[action]))\n",
    "\n",
    "        \n",
    "class Bandit_UCB(Bandit): \n",
    "    \n",
    "    def __init__(self, k, T, c):\n",
    "        self.c = c\n",
    "        self.H = np.zeros(k)\n",
    "        self.pi = np.zeros(k)\n",
    "        super().__init__(k, T, np.zeros(k), lambda x: x)\n",
    "        \n",
    "    def run(self):\n",
    "        for i in range(self.T):\n",
    "            action = self.choose_action(i+1)\n",
    "            self.N_a[action] = self.N_a[action] + 1\n",
    "            reward = np.random.normal(self.q[action], self.q_sig, 1)[0]\n",
    "            self.rewards[i] = reward\n",
    "            super().update_reward_estimate(reward, self.alpha)\n",
    "            super().update_q()\n",
    "      \n",
    "    def choose_action(self, t):\n",
    "        if t < 2:\n",
    "            return int(np.floor(np.random.rand(1)[0] * self.Q.size))\n",
    "        else:\n",
    "            return np.argmax(self.Q + self.c * np.sqrt(np.log(t) / self.N_a))\n",
    "    "
   ]
  },
  {
   "cell_type": "code",
   "execution_count": 62,
   "metadata": {},
   "outputs": [
    {
     "data": {
      "text/plain": [
       "array([ 4, 10, 18])"
      ]
     },
     "execution_count": 62,
     "metadata": {},
     "output_type": "execute_result"
    }
   ],
   "source": [
    "np.multiply(np.array([1,2,3]), np.array([4,5,6]))"
   ]
  },
  {
   "cell_type": "markdown",
   "metadata": {},
   "source": [
    "#### $\\epsilon$-Greedy Method"
   ]
  },
  {
   "cell_type": "code",
   "execution_count": 48,
   "metadata": {},
   "outputs": [
    {
     "name": "stdout",
     "output_type": "stream",
     "text": [
      "0.0078125\n",
      "0.015625\n",
      "0.03125\n",
      "0.0625\n",
      "0.125\n",
      "0.25\n"
     ]
    }
   ],
   "source": [
    "trials_per_param_value = 100\n",
    "T = 20000\n",
    "T_meas = 10000 # Last _ steps are taken for performance measure\n",
    "k = 10 # arms of the bandit\n",
    "\n",
    "epsilon_range = np.logspace(0, 5, 6, base=2.0)\n",
    "epsilon_range = epsilon_range * 1/128\n",
    "avg_reward = np.zeros(epsilon_range.size)\n",
    "\n",
    "def update_averages(old, new, n):\n",
    "    return old + (new - old) / n\n",
    "\n",
    "def make_actioneer(epsilon):\n",
    "    def choose_action(Q):\n",
    "        if (np.random.rand(1)[0] > epsilon):\n",
    "            return np.argmax(Q)\n",
    "        else:\n",
    "            return int(np.floor(np.random.rand(1)[0] * Q.size)) # return random action\n",
    "    return choose_action\n",
    "\n",
    "for i, e in enumerate(epsilon_range):\n",
    "    print(e)\n",
    "    cuml_reward = 0\n",
    "    for j in range(trials_per_param_value):\n",
    "        bandit = Bandit(k, T, np.zeros(k), make_actioneer(e))\n",
    "        bandit.run()\n",
    "        cuml_reward += np.mean(bandit.rewards[-T_meas:])\n",
    "    avg_reward[i] = cuml_reward / trials_per_param_value\n"
   ]
  },
  {
   "cell_type": "code",
   "execution_count": 49,
   "metadata": {},
   "outputs": [
    {
     "data": {
      "text/plain": [
       "[<matplotlib.lines.Line2D at 0x7fcad9086970>]"
      ]
     },
     "execution_count": 49,
     "metadata": {},
     "output_type": "execute_result"
    },
    {
     "data": {
      "image/png": "[encoded data removed]",
      "text/plain": [
       "<Figure size 432x288 with 1 Axes>"
      ]
     },
     "metadata": {
      "needs_background": "light"
     },
     "output_type": "display_data"
    }
   ],
   "source": [
    "plt.plot(epsilon_range, avg_reward)"
   ]
  },
  {
   "cell_type": "markdown",
   "metadata": {},
   "source": [
    "#### $\\epsilon$-Greedy with Optimistic Initialization"
   ]
  },
  {
   "cell_type": "code",
   "execution_count": 50,
   "metadata": {},
   "outputs": [
    {
     "name": "stdout",
     "output_type": "stream",
     "text": [
      "0.0078125\n",
      "0.015625\n",
      "0.03125\n",
      "0.0625\n",
      "0.125\n",
      "0.25\n"
     ]
    }
   ],
   "source": [
    "trials_per_param_value = 100\n",
    "T = 20000\n",
    "T_meas = 10000 # Last _ steps are taken for performance measure\n",
    "k = 10 # arms of the bandit\n",
    "\n",
    "epsilon_range = np.logspace(0, 5, 6, base=2.0)\n",
    "epsilon_range = epsilon_range * 1/128\n",
    "avg_reward = np.zeros(epsilon_range.size)\n",
    "\n",
    "def update_averages(old, new, n):\n",
    "    return old + (new - old) / n\n",
    "\n",
    "def make_actioneer(epsilon):\n",
    "    def choose_action(Q):\n",
    "        if (np.random.rand(1)[0] > epsilon):\n",
    "            return np.argmax(Q)\n",
    "        else:\n",
    "            return int(np.floor(np.random.rand(1)[0] * Q.size)) # return random action\n",
    "    return choose_action\n",
    "\n",
    "for i, e in enumerate(epsilon_range):\n",
    "    print(e)\n",
    "    cuml_reward = 0\n",
    "    for j in range(trials_per_param_value):\n",
    "        bandit = Bandit(k, T, np.zeros(k) + 5, make_actioneer(e))\n",
    "        bandit.run()\n",
    "        cuml_reward += np.mean(bandit.rewards[-T_meas:])\n",
    "    avg_reward[i] = cuml_reward / trials_per_param_value"
   ]
  },
  {
   "cell_type": "code",
   "execution_count": 51,
   "metadata": {},
   "outputs": [
    {
     "data": {
      "text/plain": [
       "[<matplotlib.lines.Line2D at 0x7fcad73b6100>]"
      ]
     },
     "execution_count": 51,
     "metadata": {},
     "output_type": "execute_result"
    },
    {
     "data": {
      "image/png": "[encoded data removed]",
      "text/plain": [
       "<Figure size 432x288 with 1 Axes>"
      ]
     },
     "metadata": {
      "needs_background": "light"
     },
     "output_type": "display_data"
    }
   ],
   "source": [
    "plt.plot(epsilon_range, avg_reward)"
   ]
  },
  {
   "cell_type": "markdown",
   "metadata": {},
   "source": [
    "#### Gradient Bandit"
   ]
  },
  {
   "cell_type": "code",
   "execution_count": 91,
   "metadata": {},
   "outputs": [
    {
     "name": "stdout",
     "output_type": "stream",
     "text": [
      "0.03125\n",
      "0.0625\n",
      "0.125\n",
      "0.25\n",
      "0.5\n",
      "1.0\n",
      "2.0\n",
      "4.0\n"
     ]
    }
   ],
   "source": [
    "trials_per_param_value = 10\n",
    "T = 20000\n",
    "T_meas = 10000 # Last _ steps are taken for performance measure\n",
    "k = 10 # arms of the bandit\n",
    "\n",
    "alpha_range = np.logspace(0, 7, 8, base=2.0)\n",
    "alpha_range = alpha_range * 1/32\n",
    "avg_reward = np.zeros(epsilon_range.size)\n",
    "\n",
    "for i, alpha_H in enumerate(alpha_range):\n",
    "    print(alpha_H)\n",
    "    cuml_reward = 0\n",
    "    for j in range(trials_per_param_value):\n",
    "        bandit = Bandit_SGA(k, T, np.zeros(k), alpha_H)\n",
    "        bandit.run()\n",
    "        cuml_reward += np.mean(bandit.rewards[-T_meas:])\n",
    "    avg_reward[i] = cuml_reward / trials_per_param_value"
   ]
  },
  {
   "cell_type": "code",
   "execution_count": 92,
   "metadata": {},
   "outputs": [
    {
     "data": {
      "text/plain": [
       "[<matplotlib.lines.Line2D at 0x7fcabc9d0520>]"
      ]
     },
     "execution_count": 92,
     "metadata": {},
     "output_type": "execute_result"
    },
    {
     "data": {
      "image/png": "[encoded data removed]",
      "text/plain": [
       "<Figure size 432x288 with 1 Axes>"
      ]
     },
     "metadata": {
      "needs_background": "light"
     },
     "output_type": "display_data"
    }
   ],
   "source": [
    "plt.plot(alpha_range, avg_reward)"
   ]
  },
  {
   "cell_type": "markdown",
   "metadata": {},
   "source": [
    "#### UCB"
   ]
  },
  {
   "cell_type": "code",
   "execution_count": 113,
   "metadata": {},
   "outputs": [
    {
     "name": "stdout",
     "output_type": "stream",
     "text": [
      "0.0625\n"
     ]
    },
    {
     "name": "stderr",
     "output_type": "stream",
     "text": [
      "<ipython-input-100-2d9716336327>:104: RuntimeWarning: divide by zero encountered in true_divide\n",
      "  return np.argmax(self.Q + self.c * np.sqrt(np.log(t) / self.N_a))\n"
     ]
    },
    {
     "name": "stdout",
     "output_type": "stream",
     "text": [
      "0.125\n",
      "0.25\n",
      "0.5\n",
      "1.0\n",
      "2.0\n",
      "4.0\n",
      "8.0\n"
     ]
    }
   ],
   "source": [
    "trials_per_param_value = 10\n",
    "T = 20000\n",
    "T_meas = 10000 # Last _ steps are taken for performance measure\n",
    "k = 10 # arms of the bandit\n",
    "\n",
    "c_range = np.logspace(0, 7, 8, base=2.0)\n",
    "c_range = c_range * 1/16\n",
    "avg_reward = np.zeros(epsilon_range.size)\n",
    "\n",
    "for i, c in enumerate(c_range):\n",
    "    print(c)\n",
    "    cuml_reward = 0\n",
    "    for j in range(trials_per_param_value):\n",
    "        bandit = Bandit_UCB(k, T, c)\n",
    "        bandit.run()\n",
    "        cuml_reward += np.mean(bandit.rewards[-T_meas:])\n",
    "    avg_reward[i] = cuml_reward / trials_per_param_value"
   ]
  },
  {
   "cell_type": "code",
   "execution_count": 114,
   "metadata": {},
   "outputs": [
    {
     "data": {
      "text/plain": [
       "[<matplotlib.lines.Line2D at 0x7fcac1959e50>]"
      ]
     },
     "execution_count": 114,
     "metadata": {},
     "output_type": "execute_result"
    },
    {
     "data": {
      "image/png": "[encoded data removed]",
      "text/plain": [
       "<Figure size 432x288 with 1 Axes>"
      ]
     },
     "metadata": {
      "needs_background": "light"
     },
     "output_type": "display_data"
    }
   ],
   "source": [
    "plt.plot(c_range, avg_reward)"
   ]
  },
  {
   "cell_type": "code",
   "execution_count": null,
   "metadata": {},
   "outputs": [],
   "source": []
  }
 ],
 "metadata": {
  "kernelspec": {
   "display_name": "Python 3",
   "language": "python",
   "name": "python3"
  },
  "language_info": {
   "codemirror_mode": {
    "name": "ipython",
    "version": 3
   },
   "file_extension": ".py",
   "mimetype": "text/x-python",
   "name": "python",
   "nbconvert_exporter": "python",
   "pygments_lexer": "ipython3",
   "version": "3.7.7"
  }
 },
 "nbformat": 4,
 "nbformat_minor": 4
}
